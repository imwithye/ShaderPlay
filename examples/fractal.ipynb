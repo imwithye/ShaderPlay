{
 "cells": [
  {
   "cell_type": "markdown",
   "id": "c2ece4bc",
   "metadata": {},
   "source": [
    "# Fractal examples"
   ]
  },
  {
   "cell_type": "code",
   "execution_count": 1,
   "id": "f0ba55d2",
   "metadata": {},
   "outputs": [],
   "source": [
    "import os\n",
    "import sys\n",
    "sys.path.append(os.path.abspath(os.path.join(\"..\")))\n",
    "from ShaderPlay import *"
   ]
  },
  {
   "cell_type": "markdown",
   "id": "0373870c",
   "metadata": {},
   "source": [
    "## Julia - Distance 1\n",
    "\n",
    "https://www.shadertoy.com/view/Mss3R8"
   ]
  },
  {
   "cell_type": "code",
   "execution_count": null,
   "id": "9f95c271",
   "metadata": {},
   "outputs": [
    {
     "name": "stderr",
     "output_type": "stream",
     "text": [
      " 50%|██████████████████████████████████████▏                                     | 32893/65536 [05:52<26:51, 20.26it/s]C:\\Users\\imwit\\AppData\\Local\\Temp/ipykernel_14568/1919780957.py:18: RuntimeWarning: divide by zero encountered in double_scalars\n",
      "  d = sqrt(lz2/ld2)*log(lz2)\n",
      " 95%|███████████████████████████████████████████████████████████████████████▎   | 62323/65536 [11:32<00:27, 116.37it/s]"
     ]
    }
   ],
   "source": [
    "class Julia(ImageShader):\n",
    "    def calc(self, ctx, p, time):\n",
    "        ltime = 0.5-0.5*cos(time*0.06)\n",
    "        zoom = pow(0.9, 50.0*ltime)\n",
    "        cen = vec2(0.2655, 0.301)+zoom*0.8*cos(4.0+2.0*ltime)\n",
    "        c = vec2(-0.745, 0.186)-0.045*zoom*(1.0-ltime*0.5)\n",
    "        p = (2.0*p-ctx.iResolution.xy)/ctx.iResolution.y;\n",
    "        z = cen + (p-cen)*zoom;\n",
    "        \n",
    "        ld2 = 1.0;\n",
    "        lz2 = dot(z, z)\n",
    "        for i in range(0, 256):\n",
    "            ld2 *= 4.0*lz2\n",
    "            z = vec2(z.x*z.x-z.y*z.y, 2.0*z.x*z.y)+c\n",
    "            lz2 = dot(z,z)\n",
    "            if lz2 > 200.0:\n",
    "                break\n",
    "        d = sqrt(lz2/ld2)*log(lz2)\n",
    "        v = sqrt(clamp((150.0/zoom)*d, 0.0, 1.0))\n",
    "        return v\n",
    "\n",
    "    def mainImage(self, ctx):\n",
    "        scol = 0.0\n",
    "        for j in range(0, 2):\n",
    "            for i in range(0, 2):\n",
    "                of = -0.5 + vec2(float(i), float(j))/2.0\n",
    "                scol += self.calc(ctx, ctx.fragCoord+of, 0.0)\n",
    "        scol /= float(4.0)\n",
    "        vcol = pow(vec3(scol), vec3(0.9, 1.1, 1.4))\n",
    "        uv = ctx.fragCoord / ctx.iResolution\n",
    "        vcol *= 0.7 + 0.3*pow(16.0*uv.x*uv.y*(1.0-uv.x)*(1.0-uv.y), 0.25)\n",
    "        ctx.fragColor = vec4(vcol, 1.0)\n",
    "\n",
    "s = Julia()\n",
    "display(render(s))"
   ]
  }
 ],
 "metadata": {
  "kernelspec": {
   "display_name": "Python 3 (ipykernel)",
   "language": "python",
   "name": "python3"
  },
  "language_info": {
   "codemirror_mode": {
    "name": "ipython",
    "version": 3
   },
   "file_extension": ".py",
   "mimetype": "text/x-python",
   "name": "python",
   "nbconvert_exporter": "python",
   "pygments_lexer": "ipython3",
   "version": "3.9.5"
  }
 },
 "nbformat": 4,
 "nbformat_minor": 5
}
