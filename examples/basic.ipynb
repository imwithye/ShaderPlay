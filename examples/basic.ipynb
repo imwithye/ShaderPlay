{
 "cells": [
  {
   "cell_type": "markdown",
   "id": "b263ed59",
   "metadata": {},
   "source": [
    "# Basic examples"
   ]
  },
  {
   "cell_type": "code",
   "execution_count": 1,
   "id": "d79677ea",
   "metadata": {},
   "outputs": [],
   "source": [
    "import os\n",
    "import sys\n",
    "sys.path.append(os.path.abspath(os.path.join(\"..\")))\n",
    "from ShaderPlay import *"
   ]
  },
  {
   "cell_type": "markdown",
   "id": "3d0d6399",
   "metadata": {},
   "source": [
    "## Basic Image Shader\n",
    "\n",
    "To create a shader, we shall extend the `ImageShader` and implement the `mainImage` method. `mainImage` takes a parameter `ctx` which has the value of current render frame.\n",
    "\n",
    "The coordinates, `fragCoord` are in pixel units, ranging from 0.5 to resolution-0.5, over the rendering surface, where the resolution is passed to the shader through the `iResolution` parameter."
   ]
  },
  {
   "cell_type": "code",
   "execution_count": 2,
   "id": "b30401b5",
   "metadata": {},
   "outputs": [
    {
     "name": "stderr",
     "output_type": "stream",
     "text": [
      "100%|██████████████████████████████████████████████████████████████████████████| 65536/65536 [00:09<00:00, 7109.56it/s]\n"
     ]
    },
    {
     "data": {
      "image/png": "[encoded data removed]",
      "text/plain": [
       "<PIL.Image.Image image mode=RGB size=256x256 at 0x1D1D57A5850>"
      ]
     },
     "metadata": {},
     "output_type": "display_data"
    }
   ],
   "source": [
    "class BasicColor(ImageShader):\n",
    "    def mainImage(self, ctx):\n",
    "        uv = ctx.fragCoord / ctx.iResolution\n",
    "        ctx.fragColor = vec4(uv.xy, 0, 1)\n",
    "\n",
    "s = BasicColor()\n",
    "display(render(s))"
   ]
  },
  {
   "cell_type": "markdown",
   "id": "ed75243e",
   "metadata": {},
   "source": [
    "## Smooth HSV\n",
    "\n",
    "https://www.shadertoy.com/view/MsS3Wc\n",
    "\n",
    "This example demos some math functions."
   ]
  },
  {
   "cell_type": "code",
   "execution_count": 3,
   "id": "03d02eec",
   "metadata": {},
   "outputs": [
    {
     "name": "stderr",
     "output_type": "stream",
     "text": [
      "100%|██████████████████████████████████████████████████████████████████████████| 65536/65536 [00:34<00:00, 1880.08it/s]\n"
     ]
    },
    {
     "data": {
      "image/png": "[encoded data removed]",
      "text/plain": [
       "<PIL.Image.Image image mode=RGB size=256x256 at 0x1D1CD860DF0>"
      ]
     },
     "metadata": {},
     "output_type": "display_data"
    }
   ],
   "source": [
    "class SmoothHSV(ImageShader):\n",
    "    # Official HSV to RGB conversion\n",
    "    def hsv2rgb(self, c):\n",
    "        rgb = clamp(abs(mod(c.x*6+vec3(0, 4, 2), 6)-3)-1, 0, 1)\n",
    "        return c.z * mix(vec3(1), rgb, c.y)\n",
    "    \n",
    "    # Smooth HSV to RGB conversion\n",
    "    def hsv2rgb_smooth(self, c):\n",
    "        rgb = clamp(abs(mod(c.x*6+vec3(0, 4, 2), 6)-3)-1, 0, 1)\n",
    "        rgb = rgb*rgb*(3-2*rgb)\n",
    "        return c.z*mix(vec3(1, 1, 1), rgb, c.y)\n",
    "\n",
    "    def mainImage(self, ctx):\n",
    "        uv = ctx.fragCoord / ctx.iResolution\n",
    "        hsl = vec3(uv.x, 1, uv.y)\n",
    "        rgb = self.hsv2rgb_smooth(hsl)\n",
    "        ctx.fragColor = vec4(rgb, 1)\n",
    "\n",
    "s = SmoothHSV()\n",
    "display(render(s))"
   ]
  }
 ],
 "metadata": {
  "kernelspec": {
   "display_name": "Python 3 (ipykernel)",
   "language": "python",
   "name": "python3"
  },
  "language_info": {
   "codemirror_mode": {
    "name": "ipython",
    "version": 3
   },
   "file_extension": ".py",
   "mimetype": "text/x-python",
   "name": "python",
   "nbconvert_exporter": "python",
   "pygments_lexer": "ipython3",
   "version": "3.9.5"
  }
 },
 "nbformat": 4,
 "nbformat_minor": 5
}
