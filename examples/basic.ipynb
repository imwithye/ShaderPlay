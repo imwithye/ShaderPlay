{
 "cells": [
  {
   "cell_type": "code",
   "execution_count": 1,
   "id": "d79677ea",
   "metadata": {},
   "outputs": [],
   "source": [
    "import os\n",
    "import sys\n",
    "import importlib\n",
    "sys.path.append(os.path.abspath(os.path.join(\"..\")))\n",
    "from shaders import *"
   ]
  },
  {
   "cell_type": "code",
   "execution_count": 2,
   "id": "b30401b5",
   "metadata": {},
   "outputs": [
    {
     "data": {
      "image/png": "[encoded data removed]",
      "text/plain": [
       "<PIL.Image.Image image mode=RGB size=256x256 at 0x2C20D9017F0>"
      ]
     },
     "metadata": {},
     "output_type": "display_data"
    }
   ],
   "source": [
    "class BasicColor(ImageShader):\n",
    "    def mainImage(self, ctx):\n",
    "        ctx.fragColor = vec4(1, 1, 0, 1)\n",
    "s = BasicColor()\n",
    "display(draw(s))"
   ]
  }
 ],
 "metadata": {
  "kernelspec": {
   "display_name": "Python 3 (ipykernel)",
   "language": "python",
   "name": "python3"
  },
  "language_info": {
   "codemirror_mode": {
    "name": "ipython",
    "version": 3
   },
   "file_extension": ".py",
   "mimetype": "text/x-python",
   "name": "python",
   "nbconvert_exporter": "python",
   "pygments_lexer": "ipython3",
   "version": "3.9.5"
  }
 },
 "nbformat": 4,
 "nbformat_minor": 5
}
