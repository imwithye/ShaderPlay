{
 "cells": [
  {
   "cell_type": "markdown",
   "id": "678dc910",
   "metadata": {},
   "source": [
    "# Basic examples"
   ]
  },
  {
   "cell_type": "code",
   "execution_count": 1,
   "id": "d79677ea",
   "metadata": {},
   "outputs": [],
   "source": [
    "import os\n",
    "import sys\n",
    "sys.path.append(os.path.abspath(os.path.join(\"..\")))\n",
    "from shaders import *"
   ]
  },
  {
   "cell_type": "markdown",
   "id": "6dd22895",
   "metadata": {},
   "source": [
    "## Basic Image Shader\n",
    "\n",
    "To create a shader, we shall extend the `ImageShader` and implement the `mainImage` method. `mainImage` takes a parameter `ctx` which has the value of current render frame.\n",
    "\n",
    "The coordinates, `fragCoord` are in pixel units, ranging from 0.5 to resolution-0.5, over the rendering surface, where the resolution is passed to the shader through the `iResolution` parameter."
   ]
  },
  {
   "cell_type": "code",
   "execution_count": 2,
   "id": "b30401b5",
   "metadata": {},
   "outputs": [
    {
     "data": {
      "image/png": "[encoded data removed]",
      "text/plain": [
       "<PIL.Image.Image image mode=RGB size=256x256 at 0x2924BD13250>"
      ]
     },
     "metadata": {},
     "output_type": "display_data"
    }
   ],
   "source": [
    "class BasicColor(ImageShader):\n",
    "    def mainImage(self, ctx):\n",
    "        uv = ctx.fragCoord / ctx.iResolution;\n",
    "        ctx.fragColor = vec4(uv.xy, 0, 1)\n",
    "\n",
    "s = BasicColor()\n",
    "display(draw(s))"
   ]
  }
 ],
 "metadata": {
  "kernelspec": {
   "display_name": "Python 3 (ipykernel)",
   "language": "python",
   "name": "python3"
  },
  "language_info": {
   "codemirror_mode": {
    "name": "ipython",
    "version": 3
   },
   "file_extension": ".py",
   "mimetype": "text/x-python",
   "name": "python",
   "nbconvert_exporter": "python",
   "pygments_lexer": "ipython3",
   "version": "3.9.5"
  }
 },
 "nbformat": 4,
 "nbformat_minor": 5
}
